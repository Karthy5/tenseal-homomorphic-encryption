{
  "nbformat": 4,
  "nbformat_minor": 0,
  "metadata": {
    "colab": {
      "provenance": [],
      "authorship_tag": "ABX9TyNvzliFruOcnJJuWh7AiQ6f",
      "include_colab_link": true
    },
    "kernelspec": {
      "name": "python3",
      "display_name": "Python 3"
    },
    "language_info": {
      "name": "python"
    }
  },
  "cells": [
    {
      "cell_type": "markdown",
      "metadata": {
        "id": "view-in-github",
        "colab_type": "text"
      },
      "source": [
        "<a href=\"https://colab.research.google.com/github/Karthy5/tenseal-homomorphic-encryption/blob/main/SImple_Homomorphic_Encryption.ipynb\" target=\"_parent\"><img src=\"https://colab.research.google.com/assets/colab-badge.svg\" alt=\"Open In Colab\"/></a>"
      ]
    },
    {
      "cell_type": "code",
      "execution_count": 1,
      "metadata": {
        "colab": {
          "base_uri": "https://localhost:8080/"
        },
        "id": "IvL96ZxJ4ewP",
        "outputId": "661e40a9-bc04-411b-b45d-e5f597a87a6b"
      },
      "outputs": [
        {
          "output_type": "stream",
          "name": "stdout",
          "text": [
            "Collecting tenseal\n",
            "  Downloading tenseal-0.3.16-cp311-cp311-manylinux_2_27_x86_64.manylinux_2_28_x86_64.whl.metadata (8.4 kB)\n",
            "Downloading tenseal-0.3.16-cp311-cp311-manylinux_2_27_x86_64.manylinux_2_28_x86_64.whl (4.8 MB)\n",
            "\u001b[2K   \u001b[90m━━━━━━━━━━━━━━━━━━━━━━━━━━━━━━━━━━━━━━━━\u001b[0m \u001b[32m4.8/4.8 MB\u001b[0m \u001b[31m16.6 MB/s\u001b[0m eta \u001b[36m0:00:00\u001b[0m\n",
            "\u001b[?25hInstalling collected packages: tenseal\n",
            "Successfully installed tenseal-0.3.16\n"
          ]
        }
      ],
      "source": [
        "pip install tenseal  # Alternative library if PySEAL is not available\n"
      ]
    },
    {
      "source": [
        "import tenseal as ts\n",
        "\n",
        "# Create a TenSEAL context with BFV scheme (supports addition & multiplication)\n",
        "# Added plain_modulus parameter\n",
        "context = ts.context(\n",
        "    scheme=ts.SCHEME_TYPE.BFV,\n",
        "    poly_modulus_degree=8192,\n",
        "    plain_modulus=1032193,  # Example prime number; choose according to your needs\n",
        "    coeff_mod_bit_sizes=[60, 40, 40, 60],\n",
        ")\n",
        "context.generate_galois_keys()\n",
        "context.generate_relin_keys()\n",
        "\n",
        "# Enable encryption and decryption\n",
        "context.global_scale = 2**40\n",
        "context.auto_rescale = True\n",
        "# context.make_context_public()  # Remove this line to keep the secret key for decryption\n",
        "\n",
        "# Encrypt two numbers\n",
        "plain1, plain2 = 5, 7\n",
        "enc1 = ts.bfv_vector(context, [plain1])\n",
        "enc2 = ts.bfv_vector(context, [plain2])\n",
        "\n",
        "# Perform encrypted addition\n",
        "enc_sum = enc1 + enc2\n",
        "# Perform encrypted multiplication\n",
        "enc_product = enc1 * enc2\n",
        "\n",
        "# Decrypt results\n",
        "decrypted_sum = enc_sum.decrypt() # The context now has the secret key\n",
        "decrypted_product = enc_product.decrypt()\n",
        "\n"
      ],
      "cell_type": "code",
      "metadata": {
        "id": "rm1IbHgu7ysj"
      },
      "execution_count": 2,
      "outputs": []
    },
    {
      "cell_type": "code",
      "source": [
        "# Print results\n",
        "print(f\"enc1: {enc1}\")\n",
        "print(f\"enc2: {enc2}\")\n",
        "print(f\"enc_sum: {enc_sum}\")\n",
        "print(f\"enc_product: {enc_product}\")\n",
        "print(f\"Decrypted Sum: {decrypted_sum[0]}\")  # Expected: 12\n",
        "print(f\"Decrypted Product: {decrypted_product[0]}\")  # Expected: 35"
      ],
      "metadata": {
        "colab": {
          "base_uri": "https://localhost:8080/"
        },
        "id": "sNVYwvoo4vQN",
        "outputId": "641a381b-7ca9-4c15-f86a-6d2dca5f8fef"
      },
      "execution_count": 3,
      "outputs": [
        {
          "output_type": "stream",
          "name": "stdout",
          "text": [
            "enc1: <tenseal.tensors.bfvvector.BFVVector object at 0x7ebb154ef550>\n",
            "enc2: <tenseal.tensors.bfvvector.BFVVector object at 0x7ebb15f43b90>\n",
            "enc_sum: <tenseal.tensors.bfvvector.BFVVector object at 0x7ebb2f57a2d0>\n",
            "enc_product: <tenseal.tensors.bfvvector.BFVVector object at 0x7ebb154f4c90>\n",
            "Decrypted Sum: 12\n",
            "Decrypted Product: 35\n"
          ]
        }
      ]
    }
  ]
}